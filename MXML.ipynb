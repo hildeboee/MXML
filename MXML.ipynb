{
 "cells": [
  {
   "cell_type": "markdown",
   "id": "7faab0ec",
   "metadata": {},
   "source": [
    "# *MunchXML* Alpha\n",
    "Developed by research assistant Loke Sjølie for the University of Oslo\n",
    "___\n",
    "Users:\n",
    "I ask that you do not touch anything under the header **Program** unless you *sort of* know what you're doing. :)\n",
    "\n",
    "Developers:\n",
    "I apologize in advance."
   ]
  },
  {
   "cell_type": "code",
   "execution_count": 1,
   "id": "cd493c99",
   "metadata": {},
   "outputs": [],
   "source": [
    "version = \"0.0\" # Describes the \"program's\" state of completion and versioning.\n",
    "uuid = \"a403c593-09df-4538-8acf-8d459339fca8\" # Unique ID. Used in sourceDesc of CMIF. Don't change it without a good reason."
   ]
  },
  {
   "cell_type": "markdown",
   "id": "7acbba94",
   "metadata": {},
   "source": [
    "*Vivisection of the TEI file provided on the 30th of March, 2022.*\n",
    "\n",
    "*The file begins with a TEI statement. There is then a **single** teiheader tag with metadata for the whole file. In the primary directory there is then a text tag, followed by a body tag. All content is encapsulated within this body tag.*\n",
    "1. The primary content vector is a set of multiple **div**s. Each div has an **ID**: div xml:id=\"No-MM_N1708\".\n",
    "2. Under the div is a head containing the ID.\n",
    "3. Under the div are **multiple** lists. These lists have *items* that convey information."
   ]
  },
  {
   "cell_type": "markdown",
   "id": "1af08e01",
   "metadata": {},
   "source": [
    "## Program"
   ]
  },
  {
   "cell_type": "markdown",
   "id": "6fefc0d3",
   "metadata": {},
   "source": [
    "### Init, metadata, etc"
   ]
  },
  {
   "cell_type": "code",
   "execution_count": 2,
   "id": "28f627dc",
   "metadata": {},
   "outputs": [],
   "source": [
    "from bs4 import BeautifulSoup # Hent BeautifulSoup-modulen (https://www.crummy.com/software/BeautifulSoup/) for XML\n",
    "from bs4 import Comment # BS4-addon for å håndtere kommentarer <!-- X -->\n",
    "from datetime import date # Dates\n",
    "#import glob # The yeast of thought and mind\n",
    "#import os # Filsystem for lasting og lagring\n",
    "today = date.today() # Sett dato i dag\n",
    "today = today.strftime(\"%Y-%m-%d\") # Formater dato\n",
    "currVer = version+\" \"+today"
   ]
  },
  {
   "cell_type": "code",
   "execution_count": 3,
   "id": "f61fcc1f",
   "metadata": {},
   "outputs": [
    {
     "name": "stdout",
     "output_type": "stream",
     "text": [
      "Version 0.0 2022-08-09\n",
      "> Updated internal files to reflect the date and version we're running today.\n"
     ]
    }
   ],
   "source": [
    "previouslyRun = \"Last executed code was version \"+str(version)+\" on date \"+str(today)+\". All OUTPUT files are current to that version on that date. UUID \"+str(uuid)+\".\"\n",
    "print(\"Version\",currVer)\n",
    "try:\n",
    "    with open(r\"settings/previous\", \"r\", encoding=\"utf-8\") as file: # Åpne filen med encoding UTF8\n",
    "        f = file.readlines() # Les innholdet som linjer\n",
    "        f = \"\".join(f) # Linjene blir kombinert i en variabel\n",
    "    if f == previouslyRun:\n",
    "        print(\"> Re-run detected. If you've changed anything, make sure to update the version var.\")\n",
    "    else:\n",
    "        f = open(r\"settings/previous\", \"w\", encoding=\"utf-8\")\n",
    "        f.write(previouslyRun)\n",
    "        print(\"> Updated internal files to reflect the date and version we're running today.\")\n",
    "    file.close()\n",
    "except:\n",
    "    f = open(r\"settings/previous\", \"w\", encoding=\"utf-8\")\n",
    "    f.write(previouslyRun)\n",
    "    f.close()\n",
    "    print(\"> I made a new file to keep track of when the script was last run.\")"
   ]
  },
  {
   "cell_type": "markdown",
   "id": "ffba0228",
   "metadata": {},
   "source": [
    "### TEI-XML"
   ]
  },
  {
   "cell_type": "code",
   "execution_count": 7,
   "id": "e95a7a6b",
   "metadata": {},
   "outputs": [],
   "source": [
    "target = r\"INPUT/tei.xml\"\n",
    "with open(target, \"r\", encoding=\"utf-8\") as file:\n",
    "    tei = file.readlines() # Les innholdet som linjer\n",
    "    tei = \"\".join(tei) # Linjene blir kombinert i en variabel\n",
    "soup = BeautifulSoup(tei, from_encoding=\"UTF-8\")"
   ]
  },
  {
   "cell_type": "markdown",
   "id": "801bf474",
   "metadata": {},
   "source": [
    "#### Debug stuff\n",
    "What is this thing? An investigation of the input document's tags."
   ]
  },
  {
   "cell_type": "code",
   "execution_count": 67,
   "id": "baf40832",
   "metadata": {},
   "outputs": [
    {
     "name": "stdout",
     "output_type": "stream",
     "text": [
      "Listing all unique tags found with mapped, understood meanings.\n",
      "TAG The HTML tag can be ignored. BS4 adds this.\n",
      "TAG Body is used as a sub-element of <text> to contain all the metadata for all letters. I am personally offended by this practice. BS4 adds one, too.\n",
      "ATTR tei @xmlns @xml:id is functionally identical to TEI tag. Just the one.\n",
      "TAG The TEI header contains metadata (titleStmt, publicationStmt, sourceDesc...).\n",
      "TAG Filedesc contains title, publication, source statements.\n",
      "TAG Titlestmt is a wrapper for the title tag (whole document).\n",
      "TAG Title for the whole document.\n",
      "TAG Publication statement for the whole document.\n",
      "TAG P is a paragraph. This is used in the TEIheader to contain the actual strings for publication & source desc. And a single, random </p> element later.\n",
      "TAG Sourcedesc describes the source of the whole document.\n",
      "TAG Text appears to be a wrapper for the body tag, which contains all the texts' metadata.\n",
      "ATTR Div has an attribute @xml:id. This describes the unique ID of the item in question.\n",
      "ATTR List's @type attribute describes whether the list is wrapped around an object/physical description, a date, or other category.\n",
      "ATTR Item's @n attribute describes role, library sorting, language, measures, dated, notes and so on. Very... multipurpose.\n",
      "TAG Item is a generic element that has multiple @attributes, such as owner, owner signature, author, paper type... This is evidently a very important tag.\n",
      "ATTR date @type @from @to describes the sequence type=fromTo, from, to. A date range.\n",
      "TAG Table is the primary data structure in which information about each letter is stored. This is a *table*.\n",
      "TAG Row is a sub-element of the table element. It defines a new X-axis in a table.\n",
      "TAG Cell is a sub-element of the table element also. A single cell appears to be an entry into a row element.\n",
      "TAG Seg appears to be some kind of ID attached to each letter. The ID is used as an @xml:id attribute in div, and the element appears in references to other letters.\n",
      "ATTR Date with attributes type and when. Single date/year.\n",
      "ATTR ref's @target attribute describes a URL to another XML.\n",
      "TAG List is a list. Often, the list only has one item. The list is used as description tag, containing other lists, and describes anything between dates to material type. Sigh...\n",
      "ATTR row @n describes parts of the text. Inventory number, paper type, etc.\n",
      "ATTR ref @target @n - like ref @target, but @n tends to be the name of an institution or so.\n",
      "TAG Div, with @xml:id, is used to contain the metadata of a single letter.\n",
      "TAG Date is a date element. It seems to have the @when attribute very often, as well as enclosed text. Often has @type(year/fromTo, etc.)\n",
      "ATTR Seems to contain URL to eMunch's web pages for a 'Read More' function.\n",
      "ATTR Caution: date @type is a date with just a type. The date itself might be enclosed...? Potentially misleading. Investigate.\n",
      "ATTR date @type @from is an open-ended date.\n",
      "ATTR ref @type @target @n - Working off of previous information, I'll infer that ref @type @target @n describes a Read More, with URL, with name.\n",
      "\n",
      "> Detected 18 comments (<!-- -->, etc). These should be eradicated before tag extraction.\n",
      "\n",
      "> You have... you've put an item in a list in an item to describe single years... *why*?\n"
     ]
    }
   ],
   "source": [
    "tagsAttrs = []\n",
    "for x in soup.findAll():\n",
    "    text = str(x.name)\n",
    "    for i in x.attrs:\n",
    "        text = text+\" @\"+i\n",
    "    if text not in tagsAttrs:\n",
    "        tagsAttrs.append(text)\n",
    "dict = {\n",
    "    \"tei\":\"The TEI element - is where our file actually begins.\",\n",
    "    \"teiheader\":\"The TEI header contains metadata (titleStmt, publicationStmt, sourceDesc...).\",\n",
    "    \"p\":\"P is a paragraph. This is used in the TEIheader to contain the actual strings for publication & source desc. And a single, random </p> element later.\",\n",
    "    \"body\":\"Body is used as a sub-element of <text> to contain all the metadata for all letters. I am personally offended by this practice. BS4 adds one, too.\",\n",
    "    \"text\":\"Text appears to be a wrapper for the body tag, which contains all the texts' metadata.\",\n",
    "    \"div\":\"Div, with @xml:id, is used to contain the metadata of a single letter.\",\n",
    "    \"date\":\"Date is a date element. It seems to have the @when attribute very often, as well as enclosed text. Often has @type(year/fromTo, etc.)\",\n",
    "    \"table\":\"Table is the primary data structure in which information about each letter is stored. This is a *table*.\",\n",
    "    \"row\":\"Row is a sub-element of the table element. It defines a new X-axis in a table.\",\n",
    "    \"seg\":\"Seg appears to be some kind of ID attached to each letter. The ID is used as an @xml:id attribute in div, and the element appears in references to other letters.\",\n",
    "    \"cell\":\"Cell is a sub-element of the table element also. A single cell appears to be an entry into a row element.\",\n",
    "    \"ref\":\"Ref appears to contain references to other XML items.\",\n",
    "    \"item\":\"Item is a generic element that has multiple @attributes, such as owner, owner signature, author, paper type... This is evidently a very important tag.\",\n",
    "    \"list\":\"List is a list. Often, the list only has one item. The list is used as description tag, containing other lists, and describes anything between dates to material type. Sigh...\",\n",
    "    \"html\":\"The HTML tag can be ignored. BS4 adds this.\",\n",
    "    \"filedesc\":\"Filedesc contains title, publication, source statements.\",\n",
    "    \"sourcedesc\":\"Sourcedesc describes the source of the whole document.\",\n",
    "    \"publicationstmt\":\"Publication statement for the whole document.\",\n",
    "    \"title\":\"Title for the whole document.\",\n",
    "    \"titlestmt\":\"Titlestmt is a wrapper for the title tag (whole document).\",\n",
    "    \"div @xml:id\":\"Div has an attribute @xml:id. This describes the unique ID of the item in question.\",\n",
    "    \"list @type\":\"List's @type attribute describes whether the list is wrapped around an object/physical description, a date, or other category.\",\n",
    "    \"item @n\":\"Item's @n attribute describes role, library sorting, language, measures, dated, notes and so on. Very... multipurpose.\",\n",
    "    \"tei @xmlns @xml:id\":\"tei @xmlns @xml:id is functionally identical to TEI tag. Just the one.\",\n",
    "    \"date @type @from @to\":\"date @type @from @to describes the sequence type=fromTo, from, to. A date range.\",\n",
    "    \"ref @target\":\"ref's @target attribute describes a URL to another XML.\",\n",
    "    \"date @type @when\":\"Date with attributes type and when. Single date/year.\",\n",
    "    \"ref @type @target\":\"Seems to contain URL to eMunch's web pages for a 'Read More' function.\",\n",
    "    \"date @type @from\":\"date @type @from is an open-ended date.\",\n",
    "    \"date @type\":\"Caution: date @type is a date with just a type. The date itself might be enclosed...? Potentially misleading. Investigate.\",\n",
    "    \"ref @target @n\":\"ref @target @n - like ref @target, but @n tends to be the name of an institution or so.\",\n",
    "    \"row @n\":\"row @n describes parts of the text. Inventory number, paper type, etc.\",\n",
    "    \"ref @type @target @n\":\"ref @type @target @n - Working off of previous information, I'll infer that ref @type @target @n describes a Read More, with URL, with name.\"\n",
    "    \n",
    "}\n",
    "print(\"Listing all unique tags and attribute combinations found with mapped, understood meanings.\\n\")\n",
    "for x in tagsAttrs:\n",
    "    if x in dict:\n",
    "        if \"@\" in x:\n",
    "            print(\"ATTR\",dict[x])\n",
    "        else:\n",
    "            print(\"TAG\",dict[x])\n",
    "    else:\n",
    "        print(\"\\n\"+str(x),\"has no description. What is this?\")\n",
    "comments = soup.find_all(string=lambda text: isinstance(text, Comment))\n",
    "if comments:\n",
    "    n = len(comments)\n",
    "    print(\"\\n> Detected\",n,\"comments (<!-- -->, etc). These should be eradicated before tag extraction.\")\n",
    "else:\n",
    "    print(\"\\n> There are no (0) comments to worry about in this document.\")\n",
    "print(\"\\n> You have... you've put an item in a list in an item to describe single years... *why*?\")"
   ]
  },
  {
   "cell_type": "code",
   "execution_count": 60,
   "id": "bf44de1b",
   "metadata": {},
   "outputs": [
    {
     "data": {
      "text/plain": [
       "['html',\n",
       " 'body',\n",
       " 'tei @xmlns @xml:id',\n",
       " 'teiheader',\n",
       " 'filedesc',\n",
       " 'titlestmt',\n",
       " 'title',\n",
       " 'publicationstmt',\n",
       " 'p',\n",
       " 'sourcedesc',\n",
       " 'text',\n",
       " 'div @xml:id',\n",
       " 'list @type',\n",
       " 'item @n',\n",
       " 'item',\n",
       " 'date @type @from @to',\n",
       " 'table',\n",
       " 'row',\n",
       " 'cell',\n",
       " 'seg',\n",
       " 'date @type @when',\n",
       " 'ref @target',\n",
       " 'list',\n",
       " 'row @n',\n",
       " 'ref @target @n',\n",
       " 'div',\n",
       " 'date',\n",
       " 'ref @type @target',\n",
       " 'date @type',\n",
       " 'date @type @from',\n",
       " 'ref @type @target @n']"
      ]
     },
     "execution_count": 60,
     "metadata": {},
     "output_type": "execute_result"
    }
   ],
   "source": [
    "\n",
    "tagsAttrs"
   ]
  },
  {
   "cell_type": "markdown",
   "id": "c3373358",
   "metadata": {},
   "source": [
    "### CMIF"
   ]
  },
  {
   "cell_type": "markdown",
   "id": "2e54c59d",
   "metadata": {},
   "source": [
    "https://correspsearch.net/en/documentation.html\n",
    "\n",
    "/correspAction/@type == correspAction element with attribute type=\"xyz\"\n",
    "\n",
    "/correspAction/persName == correspAction element with persName child element\n",
    "\n",
    "@X == attribute of element\n",
    "\n",
    "*Each letter, postcard - document - that is to be described features its own **correspDesc element**. *There are as many correspDescs as there are items. A particular correspDesc element in CMI format is more restrictive and reduced with regard to its vocabulary than the TEI Guidlines generally allow. This enables interchange between the respective TEI documents.*"
   ]
  },
  {
   "cell_type": "markdown",
   "id": "58d361f7",
   "metadata": {},
   "source": [
    "for each in letters:\n",
    "    create correspDesc wrapper\n",
    "    \n",
    "<correspDesc>\n",
    "    <correspAction type=\"sent\">\n",
    "        <persName ref=\"VIAFetc url\">NAME</>\n",
    "        <placeName ref=\"Geonames url\">NAME</>\n",
    "    <correspAction type=\"received\">\n",
    "        <persName ref=\"url\">NAME</>\n",
    "        <placeName ref=\"Geonames url\">NAME</>"
   ]
  },
  {
   "cell_type": "code",
   "execution_count": null,
   "id": "12396cb7",
   "metadata": {},
   "outputs": [],
   "source": []
  }
 ],
 "metadata": {
  "kernelspec": {
   "display_name": "Python 3",
   "language": "python",
   "name": "python3"
  },
  "language_info": {
   "codemirror_mode": {
    "name": "ipython",
    "version": 3
   },
   "file_extension": ".py",
   "mimetype": "text/x-python",
   "name": "python",
   "nbconvert_exporter": "python",
   "pygments_lexer": "ipython3",
   "version": "3.8.8"
  }
 },
 "nbformat": 4,
 "nbformat_minor": 5
}
