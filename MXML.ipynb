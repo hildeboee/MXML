{
 "cells": [
  {
   "cell_type": "markdown",
   "id": "7faab0ec",
   "metadata": {},
   "source": [
    "# *MunchXML* Alpha\n",
    "Developed by research assistant Loke Sjølie for the University of Oslo\n",
    "___\n",
    "Users:\n",
    "I ask that you do not touch anything under the header **Program** unless you *sort of* know what you're doing. :)\n",
    "\n",
    "Developers:\n",
    "I apologize in advance."
   ]
  },
  {
   "cell_type": "code",
   "execution_count": 8,
   "id": "cd493c99",
   "metadata": {},
   "outputs": [],
   "source": [
    "version = \"0.0\" # Describes the \"program's\" state of completion and versioning.\n",
    "uuid = \"a403c593-09df-4538-8acf-8d459339fca8\" # Unique ID. Used in sourceDesc of CMIF. Don't change it without a good reason."
   ]
  },
  {
   "cell_type": "markdown",
   "id": "7acbba94",
   "metadata": {},
   "source": [
    "*Vivisection of the TEI file provided on the 30th of March, 2022.*\n",
    "\n",
    "*The file begins with a TEI statement. There is then a **single** teiheader tag with metadata for the whole file. In the primary directory there is then a text tag, followed by a body tag. All content is encapsulated within this body tag.*\n",
    "1. The primary content vector is a set of multiple **div**s. Each div has an **ID**: div xml:id=\"No-MM_N1708\".\n",
    "2. Under the div is a head containing the ID.\n",
    "3. Under the div are **multiple** lists. These lists have *items* that convey information."
   ]
  },
  {
   "cell_type": "markdown",
   "id": "1af08e01",
   "metadata": {},
   "source": [
    "## Program"
   ]
  },
  {
   "cell_type": "markdown",
   "id": "3e36ed10",
   "metadata": {},
   "source": [
    "### Init, metadata, etc"
   ]
  },
  {
   "cell_type": "code",
   "execution_count": 9,
   "id": "28f627dc",
   "metadata": {},
   "outputs": [],
   "source": [
    "from bs4 import BeautifulSoup # Hent BeautifulSoup-modulen (https://www.crummy.com/software/BeautifulSoup/) for XML\n",
    "from bs4 import Comment # BS4-addon for å håndtere kommentarer <!-- X -->\n",
    "from datetime import date # Dates\n",
    "#import glob # The yeast of thought and mind\n",
    "#import os # Filsystem for lasting og lagring\n",
    "today = date.today() # Sett dato i dag\n",
    "today = today.strftime(\"%d/%m/%Y\") # Formater dato\n",
    "currVer = version+\" \"+today\n",
    "previouslyRun = \"Last executed code was version \"+version+\" on date \"+today+\". All OUTPUT files are current to that version on that date.\""
   ]
  },
  {
   "cell_type": "code",
   "execution_count": 10,
   "id": "f61fcc1f",
   "metadata": {},
   "outputs": [
    {
     "name": "stdout",
     "output_type": "stream",
     "text": [
      "Version 0.0 08/08/2022\n",
      "> Updated internal files to reflect the date and version we're running today.\n"
     ]
    }
   ],
   "source": [
    "print(\"Version\",currVer)\n",
    "try:\n",
    "    with open(r\"settings/previous\", \"r\", encoding=\"utf-8\") as file: # Åpne filen med encoding UTF8\n",
    "        f = file.readlines() # Les innholdet som linjer\n",
    "        f = \"\".join(f) # Linjene blir kombinert i en variabel\n",
    "    if f == previouslyRun:\n",
    "        print(\"> Re-run detected. If you've changed anything, make sure to update the version var.\")\n",
    "    else:\n",
    "        f = open(r\"settings/previous\", \"w\", encoding=\"utf-8\")\n",
    "        f.write(previouslyRun)\n",
    "        print(\"> Updated internal files to reflect the date and version we're running today.\")\n",
    "    f.close()\n",
    "except:\n",
    "    f = open(r\"settings/previous\", \"w\", encoding=\"utf-8\")\n",
    "    f.write(previouslyRun)\n",
    "    f.close()\n",
    "    print(\"> I made a new file to keep track of when the script was last run.\")"
   ]
  },
  {
   "cell_type": "markdown",
   "id": "c8a267cf",
   "metadata": {},
   "source": [
    "### CMIF"
   ]
  },
  {
   "cell_type": "markdown",
   "id": "f8e5cf9f",
   "metadata": {},
   "source": [
    "https://correspsearch.net/en/documentation.html\n",
    "\n",
    "/correspAction/@type == correspAction element with attribute type=\"xyz\"\n",
    "\n",
    "/correspAction/persName == correspAction element with persName child element\n",
    "\n",
    "@X == attribute of element\n",
    "\n",
    "*Each letter, postcard - document - that is to be described features its own **correspDesc element**. *There are as many correspDescs as there are items. A particular correspDesc element in CMI format is more restrictive and reduced with regard to its vocabulary than the TEI Guidlines generally allow. This enables interchange between the respective TEI documents.*"
   ]
  },
  {
   "cell_type": "markdown",
   "id": "933ed0fa",
   "metadata": {},
   "source": [
    "for each in letters:\n",
    "    create correspDesc wrapper\n",
    "    \n",
    "<correspDesc>\n",
    "    <correspAction type=\"sent\">\n",
    "        <persName ref=\"VIAFetc url\">NAME</>\n",
    "        <placeName ref=\"Geonames url\">NAME</>\n",
    "    <correspAction type=\"received\">\n",
    "        <persName ref=\"url\">NAME</>\n",
    "        <placeName ref=\"Geonames url\">NAME</>"
   ]
  },
  {
   "cell_type": "code",
   "execution_count": null,
   "id": "19e76ad9",
   "metadata": {},
   "outputs": [],
   "source": []
  }
 ],
 "metadata": {
  "kernelspec": {
   "display_name": "Python 3",
   "language": "python",
   "name": "python3"
  },
  "language_info": {
   "codemirror_mode": {
    "name": "ipython",
    "version": 3
   },
   "file_extension": ".py",
   "mimetype": "text/x-python",
   "name": "python",
   "nbconvert_exporter": "python",
   "pygments_lexer": "ipython3",
   "version": "3.8.8"
  }
 },
 "nbformat": 4,
 "nbformat_minor": 5
}
